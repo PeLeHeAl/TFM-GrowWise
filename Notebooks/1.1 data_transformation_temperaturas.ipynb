{
 "cells": [
  {
   "cell_type": "code",
   "execution_count": 1,
   "id": "f04b1a98",
   "metadata": {},
   "outputs": [],
   "source": [
    "import xarray as xr\n",
    "import pandas as pd\n",
    "import os\n",
    "import re\n"
   ]
  },
  {
   "cell_type": "code",
   "execution_count": 2,
   "id": "69c126fd",
   "metadata": {},
   "outputs": [],
   "source": [
    "# Ruta a la carpeta donde están tus archivos .nc\n",
    "carpeta = \"Data\\Raw\\Temperature\""
   ]
  },
  {
   "cell_type": "code",
   "execution_count": 3,
   "id": "fc347bce",
   "metadata": {},
   "outputs": [
    {
     "name": "stdout",
     "output_type": "stream",
     "text": [
      "Convertido: 01_mean_temperature-reanalysis-monthly-layer-eea_trans_mediterranean-latitude-1940-2023-v1.0.nc → 01_mean_temperature-reanalysis-monthly-layer-eea_trans_mediterranean-latitude-1940-2023-v1.0.csv\n",
      "Convertido: 03_heating_degree_days-reanalysis-monthly-layer-eea_trans_mediterranean-latitude-1940-2023-v1.0.nc → 03_heating_degree_days-reanalysis-monthly-layer-eea_trans_mediterranean-latitude-1940-2023-v1.0.csv\n",
      "Convertido: 04_cooling_degree_days-reanalysis-monthly-layer-eea_trans_mediterranean-latitude-1940-2023-v1.0.nc → 04_cooling_degree_days-reanalysis-monthly-layer-eea_trans_mediterranean-latitude-1940-2023-v1.0.csv\n",
      "Convertido: 11_frost_days-reanalysis-monthly-layer-eea_trans_mediterranean-latitude-1940-2023-v1.0.nc → 11_frost_days-reanalysis-monthly-layer-eea_trans_mediterranean-latitude-1940-2023-v1.0.csv\n",
      "Convertido: l1_daily_maximum_temperature-reanalysis-monthly-max-layer-eea_trans_mediterranean-latitude-1940-2023-v1.0.nc → l1_daily_maximum_temperature-reanalysis-monthly-max-layer-eea_trans_mediterranean-latitude-1940-2023-v1.0.csv\n",
      "Convertido: l1_daily_maximum_temperature-reanalysis-monthly-mean-layer-eea_trans_mediterranean-latitude-1940-2023-v1.0.nc → l1_daily_maximum_temperature-reanalysis-monthly-mean-layer-eea_trans_mediterranean-latitude-1940-2023-v1.0.csv\n",
      "Convertido: l1_daily_maximum_temperature-reanalysis-monthly-min-layer-eea_trans_mediterranean-latitude-1940-2023-v1.0.nc → l1_daily_maximum_temperature-reanalysis-monthly-min-layer-eea_trans_mediterranean-latitude-1940-2023-v1.0.csv\n",
      "Convertido: l2_daily_minimum_temperature-reanalysis-monthly-max-layer-eea_trans_mediterranean-latitude-1940-2023-v1.0.nc → l2_daily_minimum_temperature-reanalysis-monthly-max-layer-eea_trans_mediterranean-latitude-1940-2023-v1.0.csv\n",
      "Convertido: l2_daily_minimum_temperature-reanalysis-monthly-mean-layer-eea_trans_mediterranean-latitude-1940-2023-v1.0.nc → l2_daily_minimum_temperature-reanalysis-monthly-mean-layer-eea_trans_mediterranean-latitude-1940-2023-v1.0.csv\n",
      "Convertido: l2_daily_minimum_temperature-reanalysis-monthly-min-layer-eea_trans_mediterranean-latitude-1940-2023-v1.0.nc → l2_daily_minimum_temperature-reanalysis-monthly-min-layer-eea_trans_mediterranean-latitude-1940-2023-v1.0.csv\n"
     ]
    }
   ],
   "source": [
    "# Procesar cada archivo .nc en la carpeta\n",
    "for archivo in os.listdir(carpeta):\n",
    "    if archivo.endswith(\".nc\"):\n",
    "        ruta_completa = os.path.join(carpeta, archivo)\n",
    "        \n",
    "        # Abrir el archivo NetCDF\n",
    "        ds = xr.open_dataset(ruta_completa)\n",
    "        \n",
    "        # Convertir a DataFrame\n",
    "        df = ds.to_dataframe().reset_index()\n",
    "        \n",
    "        # Crear nombre para el archivo CSV\n",
    "        nombre_csv = os.path.splitext(archivo)[0] + \".csv\"\n",
    "        ruta_csv = os.path.join(carpeta, nombre_csv)\n",
    "        \n",
    "        # Guardar como CSV\n",
    "        df.to_csv(ruta_csv, index=False)\n",
    "        \n",
    "        print(f\"Convertido: {archivo} → {nombre_csv}\")"
   ]
  }
 ],
 "metadata": {
  "kernelspec": {
   "display_name": "last",
   "language": "python",
   "name": "python3"
  },
  "language_info": {
   "codemirror_mode": {
    "name": "ipython",
    "version": 3
   },
   "file_extension": ".py",
   "mimetype": "text/x-python",
   "name": "python",
   "nbconvert_exporter": "python",
   "pygments_lexer": "ipython3",
   "version": "3.11.7"
  }
 },
 "nbformat": 4,
 "nbformat_minor": 5
}
